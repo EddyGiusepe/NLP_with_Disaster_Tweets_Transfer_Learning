{
  "nbformat": 4,
  "nbformat_minor": 0,
  "metadata": {
    "colab": {
      "name": "3_Transfer_Learning_in_Text_Classification.ipynb",
      "provenance": [],
      "collapsed_sections": [],
      "authorship_tag": "ABX9TyMs2w9H9YT6o8qe/cfNuGdZ",
      "include_colab_link": true
    },
    "kernelspec": {
      "name": "python3",
      "display_name": "Python 3"
    },
    "language_info": {
      "name": "python"
    }
  },
  "cells": [
    {
      "cell_type": "markdown",
      "metadata": {
        "id": "view-in-github",
        "colab_type": "text"
      },
      "source": [
        "<a href=\"https://colab.research.google.com/github/EddyGiusepe/NLP_with_Disaster_Tweets_Transfer_Learning/blob/main/3_Transfer_Learning_in_Text_Classification.ipynb\" target=\"_parent\"><img src=\"https://colab.research.google.com/assets/colab-badge.svg\" alt=\"Open In Colab\"/></a>"
      ]
    },
    {
      "cell_type": "markdown",
      "source": [
        "<h2 align=\"center\">Text Classification - Transfer Learning</h2>\n",
        "\n",
        "\n",
        "Data Scientist.: Dr.Eddy Giusepe Chirinos Isidro"
      ],
      "metadata": {
        "id": "mCeHrphKQ7oo"
      }
    },
    {
      "cell_type": "markdown",
      "source": [
        "# <font color=\"orange\">Transfer Learning</font>\n",
        "\n",
        "Está técnica permite treinar Redes Neurais de maneira mais rápida, com pouco requisito computacional e permitindo o treinamento da Rede com melhor desempenho e com poucos Dados.\n",
        "\n",
        "A ideia comsiste em treinar uma Rede Neural em um Dataset grande, com grandes recursos computacionais e uma vez treinada utilizar o conhecimento que este modelo já possui como ponto de partida para nosso caso particular no processo conocido como `Fine-Tuning`. "
      ],
      "metadata": {
        "id": "Rm1RodJDUKma"
      }
    },
    {
      "cell_type": "code",
      "source": [
        "from google.colab import drive\n",
        "drive.mount('/content/drive')"
      ],
      "metadata": {
        "colab": {
          "base_uri": "https://localhost:8080/"
        },
        "id": "lEIlzQ5MieF4",
        "outputId": "a3358ce9-9387-42bb-a643-f5f09f05b9bb"
      },
      "execution_count": null,
      "outputs": [
        {
          "output_type": "stream",
          "name": "stdout",
          "text": [
            "Mounted at /content/drive\n"
          ]
        }
      ]
    },
    {
      "cell_type": "code",
      "source": [
        "!pip install torchtext==0.10.0"
      ],
      "metadata": {
        "id": "MMFIsJVokbP7"
      },
      "execution_count": null,
      "outputs": []
    },
    {
      "cell_type": "code",
      "source": [
        "# Importamos a nossas bibliotecas necessárias\n",
        "\n",
        "import os\n",
        "import torch\n",
        "import numpy as np\n",
        "import pandas as pd\n",
        "import matplotlib.pyplot as plt\n",
        "from pathlib import Path\n",
        "\n",
        "\n",
        "import torchtext\n",
        "from torchtext.legacy.data import Field, LabelField\n",
        "from torchtext.legacy import data"
      ],
      "metadata": {
        "id": "n0Y8wcZ1TlX-"
      },
      "execution_count": null,
      "outputs": []
    },
    {
      "cell_type": "code",
      "execution_count": null,
      "metadata": {
        "colab": {
          "base_uri": "https://localhost:8080/"
        },
        "id": "9LoGBYc9Oa1D",
        "outputId": "bd4451c7-aeb5-439b-93fc-96986fb9512c"
      },
      "outputs": [
        {
          "output_type": "execute_result",
          "data": {
            "text/plain": [
              "['sample_submission.csv',\n",
              " 'test.csv',\n",
              " 'train.csv',\n",
              " 'train_clean.csv',\n",
              " 'test_clean.csv',\n",
              " 'submission.csv']"
            ]
          },
          "metadata": {},
          "execution_count": 4
        }
      ],
      "source": [
        "PATH = Path('/content/drive/MyDrive/5_Scripts_in_Python_Eddy/3_SENSIO_ML_DL/Kaggle_NLP_with_Disaster_Tweets/data_Tweets')\n",
        "\n",
        "os.listdir(PATH)\n"
      ]
    },
    {
      "cell_type": "code",
      "source": [
        "# A diferença do outro script vamos a usar o total dos Dados\n",
        "\n",
        "ID = data.RawField()\n",
        "KEYWORD = data.RawField()\n",
        "LOCATION = data.RawField()\n",
        "TEXT = data.Field(tokenize=\"spacy\")\n",
        "LABEL = data.LabelField(dtype = torch.long)\n",
        "\n",
        "dataset = data.TabularDataset(\n",
        "    path = PATH / 'train.csv',\n",
        "    format = 'CSV',\n",
        "    fields = [('id', ID), ('keyword', KEYWORD), ('location', LOCATION), ('text', TEXT), ('target', LABEL)],\n",
        "    skip_header = True\n",
        ")\n",
        "\n",
        "len(dataset)"
      ],
      "metadata": {
        "colab": {
          "base_uri": "https://localhost:8080/"
        },
        "id": "Tafq8Y6pTjhP",
        "outputId": "d4004ea1-698c-446d-8a70-e942cf1c7cfd"
      },
      "execution_count": null,
      "outputs": [
        {
          "output_type": "execute_result",
          "data": {
            "text/plain": [
              "7613"
            ]
          },
          "metadata": {},
          "execution_count": 5
        }
      ]
    },
    {
      "cell_type": "code",
      "source": [
        "ix = 0\n",
        "\n",
        "print(vars(dataset.examples[ix]))"
      ],
      "metadata": {
        "colab": {
          "base_uri": "https://localhost:8080/"
        },
        "id": "IdFAXW3dTlMC",
        "outputId": "112b0378-f4bf-45ab-ad35-cd41f6cdefd3"
      },
      "execution_count": null,
      "outputs": [
        {
          "output_type": "stream",
          "name": "stdout",
          "text": [
            "{'id': '1', 'keyword': '', 'location': '', 'text': ['Our', 'Deeds', 'are', 'the', 'Reason', 'of', 'this', '#', 'earthquake', 'May', 'ALLAH', 'Forgive', 'us', 'all'], 'target': '1'}\n"
          ]
        }
      ]
    },
    {
      "cell_type": "code",
      "source": [
        "train_dataset, valid_dataset = dataset.split(\n",
        "    split_ratio=0.75,\n",
        "    stratified=True,\n",
        "    strata_field='target'\n",
        ")\n",
        "\n",
        "len(train_dataset), len(valid_dataset)"
      ],
      "metadata": {
        "colab": {
          "base_uri": "https://localhost:8080/"
        },
        "id": "LxzGWOdGTlJu",
        "outputId": "8f151bef-0d6b-4877-8a2a-2926c476c873"
      },
      "execution_count": null,
      "outputs": [
        {
          "output_type": "execute_result",
          "data": {
            "text/plain": [
              "(5709, 1904)"
            ]
          },
          "metadata": {},
          "execution_count": 7
        }
      ]
    },
    {
      "cell_type": "code",
      "source": [
        "MAX_VOCAB_SIZE = 10000\n",
        "\n",
        "TEXT.build_vocab(train_dataset, \n",
        "                 max_size=MAX_VOCAB_SIZE,\n",
        "                 vectors=\"glove.6B.100d\", # Aqui vai baixar estes vetores de Embeddings (tem 100 DIMENSÕES)\n",
        "                 unk_init = torch.Tensor.normal_)\n",
        "\n",
        "LABEL.build_vocab(train_dataset)"
      ],
      "metadata": {
        "colab": {
          "base_uri": "https://localhost:8080/"
        },
        "id": "VwBPRJ5QTlHZ",
        "outputId": "d3d40056-aefe-486c-8869-a01e54f3b016"
      },
      "execution_count": null,
      "outputs": [
        {
          "output_type": "stream",
          "name": "stderr",
          "text": [
            ".vector_cache/glove.6B.zip: 862MB [02:40, 5.36MB/s]                           \n",
            "100%|█████████▉| 399999/400000 [00:16<00:00, 24743.61it/s]\n"
          ]
        }
      ]
    },
    {
      "cell_type": "code",
      "source": [
        "len(TEXT.vocab), len(LABEL.vocab)"
      ],
      "metadata": {
        "colab": {
          "base_uri": "https://localhost:8080/"
        },
        "id": "L1bExdzWTlFM",
        "outputId": "1227455e-5e0e-436d-cf97-914ad9554c76"
      },
      "execution_count": null,
      "outputs": [
        {
          "output_type": "execute_result",
          "data": {
            "text/plain": [
              "(10002, 2)"
            ]
          },
          "metadata": {},
          "execution_count": 9
        }
      ]
    },
    {
      "cell_type": "code",
      "source": [
        "\n",
        "TEXT.vocab.itos[:10]\n"
      ],
      "metadata": {
        "colab": {
          "base_uri": "https://localhost:8080/"
        },
        "id": "qe4_8PrFTlC8",
        "outputId": "0462fa21-690c-48dd-f3fb-f116d47bda6e"
      },
      "execution_count": null,
      "outputs": [
        {
          "output_type": "execute_result",
          "data": {
            "text/plain": [
              "['<unk>', '<pad>', '#', '.', '?', 'the', ':', 'a', 'to', 'in']"
            ]
          },
          "metadata": {},
          "execution_count": 10
        }
      ]
    },
    {
      "cell_type": "code",
      "source": [
        "device = \"cuda\" if torch.cuda.is_available() else \"cpu\"\n",
        "\n",
        "dataloader = {\n",
        "    'train': data.BucketIterator(train_dataset, batch_size=64, shuffle=True, device=device),\n",
        "    'val': data.BucketIterator(valid_dataset, batch_size=100, device=device)\n",
        "}"
      ],
      "metadata": {
        "id": "4i4dNlCoTlAU"
      },
      "execution_count": null,
      "outputs": []
    },
    {
      "cell_type": "code",
      "source": [
        "# OBS: embedding_dim=100 --> Tem que ser 100 porque é o tamanho dos Embeddings pré-treinados\n",
        "\n",
        "class LSTM(torch.nn.Module):\n",
        "    def __init__(self, input_dim, embedding_dim=100, hidden_size=128, num_layers=2, n_outputs=2, bidirectional=True, dropout=0):\n",
        "        super().__init__()\n",
        "        self.embedding = torch.nn.Embedding(input_dim, embedding_dim)\n",
        "        self.rnn = torch.nn.LSTM(\n",
        "            input_size=embedding_dim, \n",
        "            hidden_size=hidden_size, \n",
        "            num_layers=num_layers,\n",
        "            bidirectional=bidirectional,\n",
        "            dropout=dropout\n",
        "        )\n",
        "        self.fc = torch.nn.Linear(2*hidden_size if bidirectional else hidden_size, n_outputs)\n",
        "        \n",
        "    def forward(self, text):\n",
        "      with torch.no_grad(): # Para ter certeza que não vamos treinar os Embeddings da Rede que estamos aproveitando \n",
        "        embedded = self.embedding(text)\n",
        "      output, _ = self.rnn(embedded)\n",
        "      # [l, bs, h]\n",
        "      return self.fc(output[-1,:,:].squeeze(0))"
      ],
      "metadata": {
        "id": "MdeJif1Ft7Zq"
      },
      "execution_count": null,
      "outputs": []
    },
    {
      "cell_type": "code",
      "source": [
        "model = LSTM(input_dim=len(TEXT.vocab))\n",
        "\n",
        "# Testamos o funcionamento de nosso Modelo, passando um Tensor de prova\n",
        "output = model(torch.randint(0, len(TEXT.vocab), (100, 64)))\n",
        "\n",
        "output.shape"
      ],
      "metadata": {
        "colab": {
          "base_uri": "https://localhost:8080/"
        },
        "id": "MyOlbUaliLHM",
        "outputId": "efd5b0c4-ecf8-42d5-b7e6-463a946a5e3e"
      },
      "execution_count": null,
      "outputs": [
        {
          "output_type": "execute_result",
          "data": {
            "text/plain": [
              "torch.Size([64, 2])"
            ]
          },
          "metadata": {},
          "execution_count": 14
        }
      ]
    },
    {
      "cell_type": "code",
      "source": [
        "import sklearn.metrics as m\n",
        "\n",
        "def fit(model, dataloader, epochs=10, lr=1e-3):\n",
        "    model.to(device)\n",
        "    criterion = torch.nn.CrossEntropyLoss()\n",
        "    optimizer = torch.optim.Adam(model.parameters(), lr)\n",
        "\n",
        "    hist = {'loss': [], 'f1': [], 'val_loss': [], 'val_f1': []}\n",
        "    best_f1 = 0.\n",
        "    for e in range(1, epochs+1):\n",
        "        model.train()\n",
        "        l, f1s = [], []\n",
        "        for batch in dataloader['train']:\n",
        "            optimizer.zero_grad()\n",
        "            y_pred = model(batch.text)\n",
        "            loss = criterion(y_pred, batch.target)\n",
        "            l.append(loss.item())\n",
        "            loss.backward()\n",
        "            optimizer.step()\n",
        "            y_pred = torch.argmax(y_pred, axis=1)\n",
        "            f1s.append(m.f1_score(batch.target.cpu(), y_pred.cpu()))\n",
        "        hist['loss'].append(np.mean(l))\n",
        "        hist['f1'].append(np.mean(f1s))\n",
        "        model.eval()\n",
        "        l, acc, f1s = [], [], []\n",
        "        with torch.no_grad(): \n",
        "            for batch in dataloader['val']:\n",
        "                y_pred = model(batch.text)\n",
        "                loss = criterion(y_pred, batch.target)\n",
        "                l.append(loss.item())          \n",
        "                y_pred = torch.argmax(y_pred, axis=1)\n",
        "                f1s.append(m.f1_score(batch.target.cpu(), y_pred.cpu()))\n",
        "        hist['val_loss'].append(np.mean(l))\n",
        "        hist['val_f1'].append(np.mean(f1s))\n",
        "        if hist[\"val_f1\"][-1] > best_f1:\n",
        "            best_f1 = hist[\"val_f1\"][-1]\n",
        "            torch.save(model.state_dict(), 'ckpt.pt')\n",
        "        print(f'Epoch {e}/{epochs} loss {hist[\"loss\"][-1]:.5f} f1 {hist[\"f1\"][-1]:.5f} val_loss {hist[\"val_loss\"][-1]:.5f} val_f1 {hist[\"val_f1\"][-1]:.5f}')\n",
        "    model.load_state_dict(torch.load('ckpt.pt'))\n",
        "    return hist"
      ],
      "metadata": {
        "id": "g_dn7cdRiklZ"
      },
      "execution_count": null,
      "outputs": []
    },
    {
      "cell_type": "code",
      "source": [
        "model = LSTM(input_dim=len(TEXT.vocab))\n",
        "\n",
        "\n",
        "pretrained_embeddings = TEXT.vocab.vectors\n",
        "model.embedding.weight.data.copy_(pretrained_embeddings)\n",
        "model.embedding.weight.data[TEXT.vocab.stoi[TEXT.unk_token]] = torch.zeros(100)\n",
        "model.embedding.weight.data[TEXT.vocab.stoi[TEXT.pad_token]] = torch.zeros(100)\n",
        "\n",
        "\n",
        "hist = fit(model, dataloader) \n",
        "\n",
        "# Observamos que o desempenho do modelo melhorou porque aplicamos a Técnica de Transfer Learning (Aproveitamos o conhecimento de outra Rede) "
      ],
      "metadata": {
        "colab": {
          "base_uri": "https://localhost:8080/"
        },
        "id": "sFoSG7owjENT",
        "outputId": "ea1ad81a-a15c-404d-8a8d-abd82bddcffd"
      },
      "execution_count": null,
      "outputs": [
        {
          "output_type": "stream",
          "name": "stdout",
          "text": [
            "Epoch 1/10 loss 0.67876 f1 0.00698 val_loss 0.64197 val_f1 0.26135\n",
            "Epoch 2/10 loss 0.65927 f1 0.43145 val_loss 0.65724 val_f1 0.44752\n",
            "Epoch 3/10 loss 0.66089 f1 0.37708 val_loss 0.66466 val_f1 0.27139\n",
            "Epoch 4/10 loss 0.65102 f1 0.39870 val_loss 0.64086 val_f1 0.67652\n",
            "Epoch 5/10 loss 0.60733 f1 0.58135 val_loss 0.53025 val_f1 0.67981\n",
            "Epoch 6/10 loss 0.50205 f1 0.70078 val_loss 0.50392 val_f1 0.68449\n",
            "Epoch 7/10 loss 0.42721 f1 0.77161 val_loss 0.48009 val_f1 0.71792\n",
            "Epoch 8/10 loss 0.37843 f1 0.81053 val_loss 0.51406 val_f1 0.73623\n",
            "Epoch 9/10 loss 0.35918 f1 0.82089 val_loss 0.46753 val_f1 0.76025\n",
            "Epoch 10/10 loss 0.29582 f1 0.86708 val_loss 0.48153 val_f1 0.75880\n"
          ]
        }
      ]
    },
    {
      "cell_type": "code",
      "source": [
        "def plot(hist):\n",
        "    fig = plt.figure(dpi=100,figsize=(10,3))\n",
        "    ax = plt.subplot(121)\n",
        "    hist = pd.DataFrame(hist)\n",
        "    hist[['loss', 'val_loss']].plot(ax=ax, grid=True)\n",
        "    ax = plt.subplot(122)\n",
        "    hist[['f1', 'val_f1']].plot(ax=ax, grid=True)\n",
        "    plt.show()\n",
        "    \n",
        "plot(hist)"
      ],
      "metadata": {
        "colab": {
          "base_uri": "https://localhost:8080/",
          "height": 287
        },
        "id": "9HIXpLcgkY-o",
        "outputId": "3024d950-e4d9-4c47-979b-233e4714a08f"
      },
      "execution_count": null,
      "outputs": [
        {
          "output_type": "display_data",
          "data": {
            "text/plain": [
              "<Figure size 1000x300 with 2 Axes>"
            ],
            "image/png": "[encoded data removed]"
          },
          "metadata": {
            "needs_background": "light"
          }
        }
      ]
    },
    {
      "cell_type": "markdown",
      "source": [
        "## Agora nos Dados de Test"
      ],
      "metadata": {
        "id": "CbLr7GvcmOsW"
      }
    },
    {
      "cell_type": "code",
      "source": [
        "test_dataset = data.TabularDataset(\n",
        "    path = PATH / 'test.csv',\n",
        "    format = 'CSV',\n",
        "    fields = [('id', ID), ('keyword', KEYWORD), ('location', LOCATION), ('text', TEXT)],\n",
        "    skip_header = True\n",
        ")\n",
        "\n",
        "len(test_dataset)"
      ],
      "metadata": {
        "colab": {
          "base_uri": "https://localhost:8080/"
        },
        "id": "5fIP0LCJl6gx",
        "outputId": "6d8f685e-e374-49f7-c018-735b731b775d"
      },
      "execution_count": null,
      "outputs": [
        {
          "output_type": "execute_result",
          "data": {
            "text/plain": [
              "3263"
            ]
          },
          "metadata": {},
          "execution_count": 22
        }
      ]
    },
    {
      "cell_type": "code",
      "source": [
        "ix = 3258\n",
        "\n",
        "print(vars(test_dataset.examples[ix]))"
      ],
      "metadata": {
        "colab": {
          "base_uri": "https://localhost:8080/"
        },
        "id": "IS4eXuzumRXb",
        "outputId": "1d20cfb0-b36a-40b9-e75a-cad616fc3a49"
      },
      "execution_count": null,
      "outputs": [
        {
          "output_type": "stream",
          "name": "stdout",
          "text": [
            "{'id': '10861', 'keyword': '', 'location': '', 'text': ['EARTHQUAKE', 'SAFETY', 'LOS', 'ANGELES', '\\x89ÛÒ', 'SAFETY', 'FASTENERS', 'XrWn']}\n"
          ]
        }
      ]
    },
    {
      "cell_type": "code",
      "source": [
        "test_dataloader = data.BucketIterator(test_dataset, batch_size=64, shuffle=False, device=device)"
      ],
      "metadata": {
        "id": "7bZtQe65mZ-c"
      },
      "execution_count": null,
      "outputs": []
    },
    {
      "cell_type": "code",
      "source": [
        "def predict():\n",
        "    model.eval()\n",
        "    preds = torch.tensor([]).to(device)\n",
        "    with torch.no_grad():\n",
        "        for batch in test_dataloader:\n",
        "            y_pred = model(batch.text)        \n",
        "            y_pred = torch.argmax(y_pred, axis=1)\n",
        "            preds = torch.cat([preds, y_pred])\n",
        "    return preds"
      ],
      "metadata": {
        "id": "FZh6Z0Uaoqun"
      },
      "execution_count": null,
      "outputs": []
    },
    {
      "cell_type": "code",
      "source": [
        "preds = predict()\n",
        "\n",
        "preds"
      ],
      "metadata": {
        "colab": {
          "base_uri": "https://localhost:8080/"
        },
        "id": "l5mW3769ots4",
        "outputId": "0e1a7002-24a7-4ec7-db4e-34f263a0df93"
      },
      "execution_count": null,
      "outputs": [
        {
          "output_type": "execute_result",
          "data": {
            "text/plain": [
              "tensor([1., 1., 0.,  ..., 1., 1., 1.])"
            ]
          },
          "metadata": {},
          "execution_count": 29
        }
      ]
    },
    {
      "cell_type": "code",
      "source": [
        "submission = pd.read_csv(PATH  / 'sample_submission.csv')\n",
        "submission"
      ],
      "metadata": {
        "colab": {
          "base_uri": "https://localhost:8080/",
          "height": 423
        },
        "id": "WRsUNz7ooxAD",
        "outputId": "ff57445c-acb1-42c4-b0bd-4f92e160e524"
      },
      "execution_count": null,
      "outputs": [
        {
          "output_type": "execute_result",
          "data": {
            "text/plain": [
              "         id  target\n",
              "0         0       0\n",
              "1         2       0\n",
              "2         3       0\n",
              "3         9       0\n",
              "4        11       0\n",
              "...     ...     ...\n",
              "3258  10861       0\n",
              "3259  10865       0\n",
              "3260  10868       0\n",
              "3261  10874       0\n",
              "3262  10875       0\n",
              "\n",
              "[3263 rows x 2 columns]"
            ],
            "text/html": [
              "\n",
              "  <div id=\"df-9a26bfdb-7e17-4767-9b32-578f6a757443\">\n",
              "    <div class=\"colab-df-container\">\n",
              "      <div>\n",
              "<style scoped>\n",
              "    .dataframe tbody tr th:only-of-type {\n",
              "        vertical-align: middle;\n",
              "    }\n",
              "\n",
              "    .dataframe tbody tr th {\n",
              "        vertical-align: top;\n",
              "    }\n",
              "\n",
              "    .dataframe thead th {\n",
              "        text-align: right;\n",
              "    }\n",
              "</style>\n",
              "<table border=\"1\" class=\"dataframe\">\n",
              "  <thead>\n",
              "    <tr style=\"text-align: right;\">\n",
              "      <th></th>\n",
              "      <th>id</th>\n",
              "      <th>target</th>\n",
              "    </tr>\n",
              "  </thead>\n",
              "  <tbody>\n",
              "    <tr>\n",
              "      <th>0</th>\n",
              "      <td>0</td>\n",
              "      <td>0</td>\n",
              "    </tr>\n",
              "    <tr>\n",
              "      <th>1</th>\n",
              "      <td>2</td>\n",
              "      <td>0</td>\n",
              "    </tr>\n",
              "    <tr>\n",
              "      <th>2</th>\n",
              "      <td>3</td>\n",
              "      <td>0</td>\n",
              "    </tr>\n",
              "    <tr>\n",
              "      <th>3</th>\n",
              "      <td>9</td>\n",
              "      <td>0</td>\n",
              "    </tr>\n",
              "    <tr>\n",
              "      <th>4</th>\n",
              "      <td>11</td>\n",
              "      <td>0</td>\n",
              "    </tr>\n",
              "    <tr>\n",
              "      <th>...</th>\n",
              "      <td>...</td>\n",
              "      <td>...</td>\n",
              "    </tr>\n",
              "    <tr>\n",
              "      <th>3258</th>\n",
              "      <td>10861</td>\n",
              "      <td>0</td>\n",
              "    </tr>\n",
              "    <tr>\n",
              "      <th>3259</th>\n",
              "      <td>10865</td>\n",
              "      <td>0</td>\n",
              "    </tr>\n",
              "    <tr>\n",
              "      <th>3260</th>\n",
              "      <td>10868</td>\n",
              "      <td>0</td>\n",
              "    </tr>\n",
              "    <tr>\n",
              "      <th>3261</th>\n",
              "      <td>10874</td>\n",
              "      <td>0</td>\n",
              "    </tr>\n",
              "    <tr>\n",
              "      <th>3262</th>\n",
              "      <td>10875</td>\n",
              "      <td>0</td>\n",
              "    </tr>\n",
              "  </tbody>\n",
              "</table>\n",
              "<p>3263 rows × 2 columns</p>\n",
              "</div>\n",
              "      <button class=\"colab-df-convert\" onclick=\"convertToInteractive('df-9a26bfdb-7e17-4767-9b32-578f6a757443')\"\n",
              "              title=\"Convert this dataframe to an interactive table.\"\n",
              "              style=\"display:none;\">\n",
              "        \n",
              "  <svg xmlns=\"http://www.w3.org/2000/svg\" height=\"24px\"viewBox=\"0 0 24 24\"\n",
              "       width=\"24px\">\n",
              "    <path d=\"M0 0h24v24H0V0z\" fill=\"none\"/>\n",
              "    <path d=\"M18.56 5.44l.94 2.06.94-2.06 2.06-.94-2.06-.94-.94-2.06-.94 2.06-2.06.94zm-11 1L8.5 8.5l.94-2.06 2.06-.94-2.06-.94L8.5 2.5l-.94 2.06-2.06.94zm10 10l.94 2.06.94-2.06 2.06-.94-2.06-.94-.94-2.06-.94 2.06-2.06.94z\"/><path d=\"M17.41 7.96l-1.37-1.37c-.4-.4-.92-.59-1.43-.59-.52 0-1.04.2-1.43.59L10.3 9.45l-7.72 7.72c-.78.78-.78 2.05 0 2.83L4 21.41c.39.39.9.59 1.41.59.51 0 1.02-.2 1.41-.59l7.78-7.78 2.81-2.81c.8-.78.8-2.07 0-2.86zM5.41 20L4 18.59l7.72-7.72 1.47 1.35L5.41 20z\"/>\n",
              "  </svg>\n",
              "      </button>\n",
              "      \n",
              "  <style>\n",
              "    .colab-df-container {\n",
              "      display:flex;\n",
              "      flex-wrap:wrap;\n",
              "      gap: 12px;\n",
              "    }\n",
              "\n",
              "    .colab-df-convert {\n",
              "      background-color: #E8F0FE;\n",
              "      border: none;\n",
              "      border-radius: 50%;\n",
              "      cursor: pointer;\n",
              "      display: none;\n",
              "      fill: #1967D2;\n",
              "      height: 32px;\n",
              "      padding: 0 0 0 0;\n",
              "      width: 32px;\n",
              "    }\n",
              "\n",
              "    .colab-df-convert:hover {\n",
              "      background-color: #E2EBFA;\n",
              "      box-shadow: 0px 1px 2px rgba(60, 64, 67, 0.3), 0px 1px 3px 1px rgba(60, 64, 67, 0.15);\n",
              "      fill: #174EA6;\n",
              "    }\n",
              "\n",
              "    [theme=dark] .colab-df-convert {\n",
              "      background-color: #3B4455;\n",
              "      fill: #D2E3FC;\n",
              "    }\n",
              "\n",
              "    [theme=dark] .colab-df-convert:hover {\n",
              "      background-color: #434B5C;\n",
              "      box-shadow: 0px 1px 3px 1px rgba(0, 0, 0, 0.15);\n",
              "      filter: drop-shadow(0px 1px 2px rgba(0, 0, 0, 0.3));\n",
              "      fill: #FFFFFF;\n",
              "    }\n",
              "  </style>\n",
              "\n",
              "      <script>\n",
              "        const buttonEl =\n",
              "          document.querySelector('#df-9a26bfdb-7e17-4767-9b32-578f6a757443 button.colab-df-convert');\n",
              "        buttonEl.style.display =\n",
              "          google.colab.kernel.accessAllowed ? 'block' : 'none';\n",
              "\n",
              "        async function convertToInteractive(key) {\n",
              "          const element = document.querySelector('#df-9a26bfdb-7e17-4767-9b32-578f6a757443');\n",
              "          const dataTable =\n",
              "            await google.colab.kernel.invokeFunction('convertToInteractive',\n",
              "                                                     [key], {});\n",
              "          if (!dataTable) return;\n",
              "\n",
              "          const docLinkHtml = 'Like what you see? Visit the ' +\n",
              "            '<a target=\"_blank\" href=https://colab.research.google.com/notebooks/data_table.ipynb>data table notebook</a>'\n",
              "            + ' to learn more about interactive tables.';\n",
              "          element.innerHTML = '';\n",
              "          dataTable['output_type'] = 'display_data';\n",
              "          await google.colab.output.renderOutput(dataTable, element);\n",
              "          const docLink = document.createElement('div');\n",
              "          docLink.innerHTML = docLinkHtml;\n",
              "          element.appendChild(docLink);\n",
              "        }\n",
              "      </script>\n",
              "    </div>\n",
              "  </div>\n",
              "  "
            ]
          },
          "metadata": {},
          "execution_count": 30
        }
      ]
    },
    {
      "cell_type": "code",
      "source": [
        "submission.target = preds.cpu().long()\n",
        "submission"
      ],
      "metadata": {
        "colab": {
          "base_uri": "https://localhost:8080/",
          "height": 423
        },
        "id": "RGJSEU_Io3kV",
        "outputId": "6bfb6b3b-9af6-4cbe-eca6-5d9f42c41399"
      },
      "execution_count": null,
      "outputs": [
        {
          "output_type": "execute_result",
          "data": {
            "text/plain": [
              "         id  target\n",
              "0         0       1\n",
              "1         2       1\n",
              "2         3       0\n",
              "3         9       1\n",
              "4        11       1\n",
              "...     ...     ...\n",
              "3258  10861       0\n",
              "3259  10865       1\n",
              "3260  10868       1\n",
              "3261  10874       1\n",
              "3262  10875       1\n",
              "\n",
              "[3263 rows x 2 columns]"
            ],
            "text/html": [
              "\n",
              "  <div id=\"df-005ad264-0d70-443b-94bf-8cd7f7056579\">\n",
              "    <div class=\"colab-df-container\">\n",
              "      <div>\n",
              "<style scoped>\n",
              "    .dataframe tbody tr th:only-of-type {\n",
              "        vertical-align: middle;\n",
              "    }\n",
              "\n",
              "    .dataframe tbody tr th {\n",
              "        vertical-align: top;\n",
              "    }\n",
              "\n",
              "    .dataframe thead th {\n",
              "        text-align: right;\n",
              "    }\n",
              "</style>\n",
              "<table border=\"1\" class=\"dataframe\">\n",
              "  <thead>\n",
              "    <tr style=\"text-align: right;\">\n",
              "      <th></th>\n",
              "      <th>id</th>\n",
              "      <th>target</th>\n",
              "    </tr>\n",
              "  </thead>\n",
              "  <tbody>\n",
              "    <tr>\n",
              "      <th>0</th>\n",
              "      <td>0</td>\n",
              "      <td>1</td>\n",
              "    </tr>\n",
              "    <tr>\n",
              "      <th>1</th>\n",
              "      <td>2</td>\n",
              "      <td>1</td>\n",
              "    </tr>\n",
              "    <tr>\n",
              "      <th>2</th>\n",
              "      <td>3</td>\n",
              "      <td>0</td>\n",
              "    </tr>\n",
              "    <tr>\n",
              "      <th>3</th>\n",
              "      <td>9</td>\n",
              "      <td>1</td>\n",
              "    </tr>\n",
              "    <tr>\n",
              "      <th>4</th>\n",
              "      <td>11</td>\n",
              "      <td>1</td>\n",
              "    </tr>\n",
              "    <tr>\n",
              "      <th>...</th>\n",
              "      <td>...</td>\n",
              "      <td>...</td>\n",
              "    </tr>\n",
              "    <tr>\n",
              "      <th>3258</th>\n",
              "      <td>10861</td>\n",
              "      <td>0</td>\n",
              "    </tr>\n",
              "    <tr>\n",
              "      <th>3259</th>\n",
              "      <td>10865</td>\n",
              "      <td>1</td>\n",
              "    </tr>\n",
              "    <tr>\n",
              "      <th>3260</th>\n",
              "      <td>10868</td>\n",
              "      <td>1</td>\n",
              "    </tr>\n",
              "    <tr>\n",
              "      <th>3261</th>\n",
              "      <td>10874</td>\n",
              "      <td>1</td>\n",
              "    </tr>\n",
              "    <tr>\n",
              "      <th>3262</th>\n",
              "      <td>10875</td>\n",
              "      <td>1</td>\n",
              "    </tr>\n",
              "  </tbody>\n",
              "</table>\n",
              "<p>3263 rows × 2 columns</p>\n",
              "</div>\n",
              "      <button class=\"colab-df-convert\" onclick=\"convertToInteractive('df-005ad264-0d70-443b-94bf-8cd7f7056579')\"\n",
              "              title=\"Convert this dataframe to an interactive table.\"\n",
              "              style=\"display:none;\">\n",
              "        \n",
              "  <svg xmlns=\"http://www.w3.org/2000/svg\" height=\"24px\"viewBox=\"0 0 24 24\"\n",
              "       width=\"24px\">\n",
              "    <path d=\"M0 0h24v24H0V0z\" fill=\"none\"/>\n",
              "    <path d=\"M18.56 5.44l.94 2.06.94-2.06 2.06-.94-2.06-.94-.94-2.06-.94 2.06-2.06.94zm-11 1L8.5 8.5l.94-2.06 2.06-.94-2.06-.94L8.5 2.5l-.94 2.06-2.06.94zm10 10l.94 2.06.94-2.06 2.06-.94-2.06-.94-.94-2.06-.94 2.06-2.06.94z\"/><path d=\"M17.41 7.96l-1.37-1.37c-.4-.4-.92-.59-1.43-.59-.52 0-1.04.2-1.43.59L10.3 9.45l-7.72 7.72c-.78.78-.78 2.05 0 2.83L4 21.41c.39.39.9.59 1.41.59.51 0 1.02-.2 1.41-.59l7.78-7.78 2.81-2.81c.8-.78.8-2.07 0-2.86zM5.41 20L4 18.59l7.72-7.72 1.47 1.35L5.41 20z\"/>\n",
              "  </svg>\n",
              "      </button>\n",
              "      \n",
              "  <style>\n",
              "    .colab-df-container {\n",
              "      display:flex;\n",
              "      flex-wrap:wrap;\n",
              "      gap: 12px;\n",
              "    }\n",
              "\n",
              "    .colab-df-convert {\n",
              "      background-color: #E8F0FE;\n",
              "      border: none;\n",
              "      border-radius: 50%;\n",
              "      cursor: pointer;\n",
              "      display: none;\n",
              "      fill: #1967D2;\n",
              "      height: 32px;\n",
              "      padding: 0 0 0 0;\n",
              "      width: 32px;\n",
              "    }\n",
              "\n",
              "    .colab-df-convert:hover {\n",
              "      background-color: #E2EBFA;\n",
              "      box-shadow: 0px 1px 2px rgba(60, 64, 67, 0.3), 0px 1px 3px 1px rgba(60, 64, 67, 0.15);\n",
              "      fill: #174EA6;\n",
              "    }\n",
              "\n",
              "    [theme=dark] .colab-df-convert {\n",
              "      background-color: #3B4455;\n",
              "      fill: #D2E3FC;\n",
              "    }\n",
              "\n",
              "    [theme=dark] .colab-df-convert:hover {\n",
              "      background-color: #434B5C;\n",
              "      box-shadow: 0px 1px 3px 1px rgba(0, 0, 0, 0.15);\n",
              "      filter: drop-shadow(0px 1px 2px rgba(0, 0, 0, 0.3));\n",
              "      fill: #FFFFFF;\n",
              "    }\n",
              "  </style>\n",
              "\n",
              "      <script>\n",
              "        const buttonEl =\n",
              "          document.querySelector('#df-005ad264-0d70-443b-94bf-8cd7f7056579 button.colab-df-convert');\n",
              "        buttonEl.style.display =\n",
              "          google.colab.kernel.accessAllowed ? 'block' : 'none';\n",
              "\n",
              "        async function convertToInteractive(key) {\n",
              "          const element = document.querySelector('#df-005ad264-0d70-443b-94bf-8cd7f7056579');\n",
              "          const dataTable =\n",
              "            await google.colab.kernel.invokeFunction('convertToInteractive',\n",
              "                                                     [key], {});\n",
              "          if (!dataTable) return;\n",
              "\n",
              "          const docLinkHtml = 'Like what you see? Visit the ' +\n",
              "            '<a target=\"_blank\" href=https://colab.research.google.com/notebooks/data_table.ipynb>data table notebook</a>'\n",
              "            + ' to learn more about interactive tables.';\n",
              "          element.innerHTML = '';\n",
              "          dataTable['output_type'] = 'display_data';\n",
              "          await google.colab.output.renderOutput(dataTable, element);\n",
              "          const docLink = document.createElement('div');\n",
              "          docLink.innerHTML = docLinkHtml;\n",
              "          element.appendChild(docLink);\n",
              "        }\n",
              "      </script>\n",
              "    </div>\n",
              "  </div>\n",
              "  "
            ]
          },
          "metadata": {},
          "execution_count": 31
        }
      ]
    },
    {
      "cell_type": "code",
      "source": [
        "submission.to_csv('submission.csv', index=False)"
      ],
      "metadata": {
        "id": "M2lUZzrXo8mE"
      },
      "execution_count": null,
      "outputs": []
    }
  ]
}